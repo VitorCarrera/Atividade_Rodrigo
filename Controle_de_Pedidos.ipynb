{
  "nbformat": 4,
  "nbformat_minor": 0,
  "metadata": {
    "colab": {
      "provenance": [],
      "collapsed_sections": [],
      "authorship_tag": "ABX9TyM+XuP9GzrxXh8W+ejVymnF",
      "include_colab_link": true
    },
    "kernelspec": {
      "name": "python3",
      "display_name": "Python 3"
    },
    "language_info": {
      "name": "python"
    }
  },
  "cells": [
    {
      "cell_type": "markdown",
      "metadata": {
        "id": "view-in-github",
        "colab_type": "text"
      },
      "source": [
        "<a href=\"https://colab.research.google.com/github/DitoCarrera/Atividade_Rodrigo/blob/main/Controle_de_Pedidos.ipynb\" target=\"_parent\"><img src=\"https://colab.research.google.com/assets/colab-badge.svg\" alt=\"Open In Colab\"/></a>"
      ]
    },
    {
      "cell_type": "code",
      "execution_count": null,
      "metadata": {
        "id": "AkmApT0ZWZ-5"
      },
      "outputs": [],
      "source": [
        "//Classe Pedido\n",
        "\n",
        "package model;\n",
        "\n",
        "public class Pedido {\n",
        "    private int cod;\n",
        "    private String nome;\n",
        "    private int qtd;\n",
        "    private boolean entrega;\n",
        "    \n",
        "    public int getCod(){\n",
        "        return this.cod;\n",
        "    }\n",
        "    \n",
        "    public void setCod(int cod){\n",
        "        this.cod = cod;\n",
        "    }\n",
        "    \n",
        "    public String getNome(){\n",
        "        return this.nome;\n",
        "    }\n",
        "    \n",
        "    public void setNome(String nome){\n",
        "        this.nome = nome;\n",
        "    }\n",
        "\n",
        "    public int getQtd(){\n",
        "        return this.qtd;\n",
        "    }\n",
        "    \n",
        "    public void setQtd(int qtd){\n",
        "        this.qtd = qtd;\n",
        "    }\n",
        "    \n",
        "    public boolean isEntrega(){\n",
        "        return this.entrega;\n",
        "    }\n",
        "    \n",
        "    public void setEntrega(boolean entrega){\n",
        "        this.entrega = entrega;\n",
        "    }\n",
        "    \n",
        "     \n",
        "}"
      ]
    },
    {
      "cell_type": "code",
      "source": [
        "//Método Main\n",
        "\n",
        "package ControlePedido;\n",
        "\n",
        "import java.util.Scanner;\n",
        "import model.Pedido;\n",
        "\n",
        "public class Main {\n",
        "    \n",
        "    public static void main(String[] args) {\n",
        "        \n",
        "        Scanner input = new Scanner(System.in);\n",
        "        \n",
        "        Pedido pedido = new Pedido();\n",
        "        int n;\n",
        "        int qtd;\n",
        "        \n",
        "        while(true){\n",
        "          \n",
        "          System.out.println(\"=====CARDÁPIO VIRTUAL=====\");\n",
        "          System.out.println(\"~~~Pizzas~~~\");\n",
        "          System.out.println(\"[ 1 ] Calabresa\");\n",
        "          System.out.println(\"[ 2 ] Portuguesa\");\n",
        "          System.out.println(\"[ 3 ] Vegana\");\n",
        "          System.out.println(\"Digite o número referente ao seu pedido.\\n\");  \n",
        "          \n",
        "          System.out.println(\"Oque você deseja?\");\n",
        "          n = input.nextInt();\n",
        "          System.out.println(\"Quantidade: \");\n",
        "          qtd = input.nextInt();\n",
        "          pedido.setQtd(qtd);\n",
        "          \n",
        "          if(n == 1){\n",
        "             pedido.setNome(\"Pizza Calabresa\");  \n",
        "          }else if(n == 2){\n",
        "             pedido.setNome(\"Pizza Portuguesa\"); \n",
        "          }else if(n == 3){\n",
        "             pedido.setNome(\"Pizza Vegana\"); \n",
        "          }else{\n",
        "             System.out.println(\"Número informado não corresponde ao cardápio.\");\n",
        "          }\n",
        "          \n",
        "          System.out.println(\"Pedido: \" + pedido.getNome());\n",
        "          System.out.println(\"Quantidade: \" + pedido.getQtd());\n",
        "          System.out.println(\"\\n\");\n",
        "        }\n",
        "        \n",
        "        \n",
        "       \n",
        "    }\n",
        "    \n",
        "}"
      ],
      "metadata": {
        "id": "l7uB-_VlW633"
      },
      "execution_count": null,
      "outputs": []
    }
  ]
}